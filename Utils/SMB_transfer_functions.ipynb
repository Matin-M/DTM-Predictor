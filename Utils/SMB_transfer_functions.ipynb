{
 "cells": [
  {
   "cell_type": "code",
   "execution_count": 1,
   "metadata": {},
   "outputs": [
    {
     "ename": "KeyError",
     "evalue": "'SMB_SERVER_IP'",
     "output_type": "error",
     "traceback": [
      "\u001b[0;31m---------------------------------------------------------------------------\u001b[0m",
      "\u001b[0;31mKeyError\u001b[0m                                  Traceback (most recent call last)",
      "Cell \u001b[0;32mIn[1], line 9\u001b[0m\n\u001b[1;32m      6\u001b[0m current_directory \u001b[39m=\u001b[39m os\u001b[39m.\u001b[39mgetcwd()\n\u001b[1;32m      7\u001b[0m sys\u001b[39m.\u001b[39mpath\u001b[39m.\u001b[39mappend(current_directory)\n\u001b[0;32m----> 9\u001b[0m smb_server_ip \u001b[39m=\u001b[39m os\u001b[39m.\u001b[39;49menviron[\u001b[39m'\u001b[39;49m\u001b[39mSMB_SERVER_IP\u001b[39;49m\u001b[39m'\u001b[39;49m]\n\u001b[1;32m     10\u001b[0m smb_server_port \u001b[39m=\u001b[39m \u001b[39mint\u001b[39m(os\u001b[39m.\u001b[39menviron[\u001b[39m'\u001b[39m\u001b[39mSMB_SERVER_PORT\u001b[39m\u001b[39m'\u001b[39m])\n\u001b[1;32m     11\u001b[0m smb_username \u001b[39m=\u001b[39m os\u001b[39m.\u001b[39menviron[\u001b[39m'\u001b[39m\u001b[39mSMB_USERNAME\u001b[39m\u001b[39m'\u001b[39m]\n",
      "File \u001b[0;32m/opt/conda/lib/python3.10/os.py:680\u001b[0m, in \u001b[0;36m_Environ.__getitem__\u001b[0;34m(self, key)\u001b[0m\n\u001b[1;32m    677\u001b[0m     value \u001b[39m=\u001b[39m \u001b[39mself\u001b[39m\u001b[39m.\u001b[39m_data[\u001b[39mself\u001b[39m\u001b[39m.\u001b[39mencodekey(key)]\n\u001b[1;32m    678\u001b[0m \u001b[39mexcept\u001b[39;00m \u001b[39mKeyError\u001b[39;00m:\n\u001b[1;32m    679\u001b[0m     \u001b[39m# raise KeyError with the original key value\u001b[39;00m\n\u001b[0;32m--> 680\u001b[0m     \u001b[39mraise\u001b[39;00m \u001b[39mKeyError\u001b[39;00m(key) \u001b[39mfrom\u001b[39;00m \u001b[39mNone\u001b[39m\n\u001b[1;32m    681\u001b[0m \u001b[39mreturn\u001b[39;00m \u001b[39mself\u001b[39m\u001b[39m.\u001b[39mdecodevalue(value)\n",
      "\u001b[0;31mKeyError\u001b[0m: 'SMB_SERVER_IP'"
     ]
    }
   ],
   "source": [
    "import os\n",
    "import tempfile\n",
    "import smbclient\n",
    "import sys\n",
    "\n",
    "current_directory = os.getcwd()\n",
    "sys.path.append(current_directory)\n",
    "\n",
    "smb_server_ip = os.environ['SMB_SERVER_IP']\n",
    "smb_server_port = int(os.environ['SMB_SERVER_PORT'])\n",
    "smb_username = os.environ['SMB_USERNAME']\n",
    "smb_password = os.environ['SMB_PASSWORD']\n",
    "smb_share_name = os.environ['SMB_SHARE_NAME']\n",
    "\n",
    "# Set the SMB client configuration\n",
    "smbclient.ClientConfig(username=smb_username, password=smb_password)\n",
    "\n",
    "def save_dataframe_to_smb_server(df, remote_file_path):\n",
    "    # Create a temporary file to store the compressed CSV\n",
    "    with tempfile.NamedTemporaryFile(mode='w+', suffix='.csv.gz', delete=False) as temp_file:\n",
    "        df.to_csv(temp_file.name, index=False, compression='gzip')\n",
    "        temp_file_path = temp_file.name\n",
    "\n",
    "    # Create the full remote path\n",
    "    remote_path = f\"\\\\\\\\{smb_server_ip}\\\\{smb_share_name}\\\\{remote_file_path}\"\n",
    "\n",
    "    # Upload the temporary compressed CSV file to the SMB share\n",
    "    with open(temp_file_path, 'rb') as local_file:\n",
    "        with smbclient.open_file(remote_path, mode='wb') as remote_file:\n",
    "            remote_file.write(local_file.read())\n",
    "\n",
    "    # Delete the temporary file\n",
    "    os.unlink(temp_file_path)\n",
    "    \n",
    "\n",
    "def download_dataframe_from_smb_server(remote_file_path):\n",
    "    # Create the full remote path\n",
    "    remote_path = f\"\\\\\\\\{smb_server_ip}\\\\{smb_share_name}\\\\{remote_file_path}\"\n",
    "\n",
    "    # Download the compressed CSV file from the SMB share\n",
    "    with tempfile.NamedTemporaryFile(mode='w+b', suffix='.csv.gz', delete=False) as temp_file:\n",
    "        with smbclient.open_file(remote_path, mode='rb') as remote_file:\n",
    "            temp_file.write(remote_file.read())\n",
    "        temp_file_path = temp_file.name\n",
    "\n",
    "    # Load the temporary compressed CSV file into a pandas DataFrame\n",
    "    df = pd.read_csv(temp_file_path, compression='gzip')\n",
    "\n",
    "    # Delete the temporary file\n",
    "    os.unlink(temp_file_path)\n",
    "\n",
    "    return df"
   ]
  }
 ],
 "metadata": {
  "kernelspec": {
   "display_name": "Python 3 (ipykernel)",
   "language": "python",
   "name": "python3"
  },
  "language_info": {
   "codemirror_mode": {
    "name": "ipython",
    "version": 3
   },
   "file_extension": ".py",
   "mimetype": "text/x-python",
   "name": "python",
   "nbconvert_exporter": "python",
   "pygments_lexer": "ipython3",
   "version": "3.10.9"
  },
  "orig_nbformat": 4
 },
 "nbformat": 4,
 "nbformat_minor": 2
}
