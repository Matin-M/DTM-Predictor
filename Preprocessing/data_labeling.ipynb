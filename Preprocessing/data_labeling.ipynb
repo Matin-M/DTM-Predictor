{
 "cells": [
  {
   "cell_type": "code",
   "execution_count": 4,
   "metadata": {},
   "outputs": [],
   "source": [
    "#Get training dataframes from SMB server"
   ]
  },
  {
   "attachments": {},
   "cell_type": "markdown",
   "metadata": {},
   "source": [
    "**What needs to be done**\n",
    " - We ultimately need to construct a 1xn vector that represents the stock direction label for each document-vector in the DTM\n",
    " - All of the metadata for each document-vector is stored in the MongoDB atlas server. Since the order of the rows has not been altered, each row in the DTM maps to each row in our filtered mongoDB atlas server"
   ]
  }
 ],
 "metadata": {
  "kernelspec": {
   "display_name": "Python 3 (ipykernel)",
   "language": "python",
   "name": "python3"
  },
  "language_info": {
   "codemirror_mode": {
    "name": "ipython",
    "version": 3
   },
   "file_extension": ".py",
   "mimetype": "text/x-python",
   "name": "python",
   "nbconvert_exporter": "python",
   "pygments_lexer": "ipython3",
   "version": "3.10.9"
  },
  "orig_nbformat": 4
 },
 "nbformat": 4,
 "nbformat_minor": 2
}
