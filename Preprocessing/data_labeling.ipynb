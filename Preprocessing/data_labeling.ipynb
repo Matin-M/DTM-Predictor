{
 "cells": [
  {
   "cell_type": "code",
   "execution_count": 33,
   "metadata": {},
   "outputs": [],
   "source": [
    "#Get training dataframes from SMB server\n",
    "import pandas as pd\n",
    "#Open hourly stock data\n",
    "cols = [\"DATE\", \"TIME\", \"OPEN\", \"HIGH\", \"LOW\", \"CLOSE\", \"VOLUME\"]\n",
    "data = pd.read_csv('https://raw.githubusercontent.com/Matin-M/StockDirectionPrediction/data-labeling/Data/Stock/AMAZON60.csv', names=cols, header=None)\n",
    "# create df\n",
    "output = pd.DataFrame()\n",
    "output[\"DATE\"] = []\n",
    "output[\"TIME\"] = []\n",
    "output[\"DIR\"] = []"
   ]
  },
  {
   "cell_type": "code",
   "execution_count": 34,
   "metadata": {},
   "outputs": [],
   "source": [
    "# create df\n",
    "output = pd.DataFrame()\n",
    "output[\"DATE\"] = []\n",
    "output[\"TIME\"] = []\n",
    "output[\"DIR\"] = []"
   ]
  },
  {
   "cell_type": "code",
   "execution_count": 35,
   "metadata": {},
   "outputs": [],
   "source": [
    "#Check whether it was up or down during that hour\n",
    "for idx, row in data.iterrows():\n",
    "    # skip over last row\n",
    "    if(idx < len(data) - 1):\n",
    "        nitem = data[idx+1:idx+2]\n",
    "        # print(nitem)\n",
    "        direction = 1 if float(nitem[\"OPEN\"]) <= float(nitem[\"CLOSE\"]) else -1\n",
    "        # output.append({\"DATE\": row[\"DATE\"], \"TIME\": row[\"TIME\"], \"DIR\": direction})\n",
    "        output.loc[len(output.index)] = [row[\"DATE\"], row[\"TIME\"], direction]\n",
    "    "
   ]
  },
  {
   "cell_type": "code",
   "execution_count": 38,
   "metadata": {},
   "outputs": [
    {
     "name": "stdout",
     "output_type": "stream",
     "text": [
      "            DATE   TIME  DIR\n",
      "0     2017.03.13  16:30   -1\n",
      "1     2017.03.13  17:30    1\n",
      "2     2017.03.13  18:30   -1\n",
      "3     2017.03.13  19:30    1\n",
      "4     2017.03.13  20:30    1\n",
      "...          ...    ...  ...\n",
      "4168  2019.02.01  14:30   -1\n",
      "4169  2019.02.01  15:30    1\n",
      "4170  2019.02.01  16:30   -1\n",
      "4171  2019.02.01  17:30   -1\n",
      "4172  2019.02.01  18:30   -1\n",
      "\n",
      "[4173 rows x 3 columns]\n",
      "            DATE   TIME     OPEN     HIGH      LOW    CLOSE  VOLUME\n",
      "0     2017.03.13  16:30   854.47   855.32   854.44   854.79    1306\n",
      "1     2017.03.13  17:30   854.77   855.04   854.00   854.40    1380\n",
      "2     2017.03.13  18:30   854.38   854.61   854.00   854.38    1717\n",
      "3     2017.03.13  19:30   854.48   854.73   851.99   854.00    1458\n",
      "4     2017.03.13  20:30   854.00   854.26   854.00   854.26       4\n",
      "...          ...    ...      ...      ...      ...      ...     ...\n",
      "4169  2019.02.01  15:30  1649.05  1652.99  1639.71  1646.63    5806\n",
      "4170  2019.02.01  16:30  1646.63  1655.53  1646.07  1649.28    5058\n",
      "4171  2019.02.01  17:30  1649.25  1649.92  1639.55  1642.00    5289\n",
      "4172  2019.02.01  18:30  1642.00  1642.54  1624.34  1629.19    8137\n",
      "4173  2019.02.01  19:30  1629.17  1630.51  1624.65  1624.81    5341\n",
      "\n",
      "[4174 rows x 7 columns]\n"
     ]
    }
   ],
   "source": [
    "# output holds what happend(which dir) after the hour\n",
    "print(output)\n",
    "print(data)"
   ]
  },
  {
   "attachments": {},
   "cell_type": "markdown",
   "metadata": {},
   "source": [
    "**What needs to be done**\n",
    " - We ultimately need to construct a 1xn vector that represents the stock direction label for each document-vector in the DTM\n",
    " - All of the metadata for each document-vector is stored in the MongoDB atlas server. Since the order of the rows has not been altered, each row in the DTM maps to each row in our filtered mongoDB atlas server"
   ]
  }
 ],
 "metadata": {
  "kernelspec": {
   "display_name": "Python 3 (ipykernel)",
   "language": "python",
   "name": "python3"
  },
  "language_info": {
   "codemirror_mode": {
    "name": "ipython",
    "version": 3
   },
   "file_extension": ".py",
   "mimetype": "text/x-python",
   "name": "python",
   "nbconvert_exporter": "python",
   "pygments_lexer": "ipython3",
   "version": "3.10.10"
  },
  "orig_nbformat": 4
 },
 "nbformat": 4,
 "nbformat_minor": 2
}
