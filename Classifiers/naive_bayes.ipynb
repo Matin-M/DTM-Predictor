{
 "cells": [
  {
   "cell_type": "code",
   "execution_count": 43,
   "metadata": {},
   "outputs": [],
   "source": [
    "import numpy as np\n",
    "import pandas as pd\n",
    "from sklearn.naive_bayes import GaussianNB\n",
    "from sklearn.model_selection import KFold, cross_val_score\n",
    "\n",
    "# Import the 60min datasets\n",
    "apple_60min_term_training = pd.read_csv('https://raw.githubusercontent.com/Matin-M/StockDirectionPrediction/main/Data/TrainingData/apple_60min_term_df_reduced.csv')\n",
    "apple_60min_bigram_training = pd.read_csv('https://raw.githubusercontent.com/Matin-M/StockDirectionPrediction/main/Data/TrainingData/apple_60min_bigram_df_reduced.csv')"
   ]
  },
  {
   "cell_type": "code",
   "execution_count": 44,
   "metadata": {},
   "outputs": [],
   "source": [
    "# Term training data and labels\n",
    "X_train_term = apple_60min_term_training.iloc[:, :-1].values\n",
    "y_train_term = apple_60min_term_training.iloc[:, -1].values\n",
    "\n",
    "# Bigram training data and labels\n",
    "X_train_bigram = apple_60min_bigram_training.iloc[:, :-1].values\n",
    "y_train_bigram = apple_60min_bigram_training.iloc[:, -1].values"
   ]
  },
  {
   "cell_type": "code",
   "execution_count": 45,
   "metadata": {},
   "outputs": [],
   "source": [
    "# Fit your model to the training data\n",
    "modelBigram = GaussianNB()\n",
    "modelTerm = GaussianNB()"
   ]
  },
  {
   "cell_type": "code",
   "execution_count": 46,
   "metadata": {},
   "outputs": [
    {
     "name": "stdout",
     "output_type": "stream",
     "text": [
      "Accuracy: 0.512 (0.023)\n"
     ]
    }
   ],
   "source": [
    "# Run K-Fold CV using your trained model on the entireity of the training data\n",
    "# Term evaluation\n",
    "cv = KFold(n_splits=10, random_state=1, shuffle=True)\n",
    "\n",
    "score = cross_val_score(modelTerm, X_train_term, y_train_term, scoring='accuracy', cv=cv, n_jobs=-1)\n",
    "\n",
    "print('Accuracy: %.3f (%.3f)' % (np.mean(score), np.std(score)))"
   ]
  },
  {
   "cell_type": "code",
   "execution_count": 47,
   "metadata": {},
   "outputs": [
    {
     "name": "stdout",
     "output_type": "stream",
     "text": [
      "Accuracy: 0.550 (0.013)\n"
     ]
    }
   ],
   "source": [
    "# Bigram evaluation\n",
    "cv = KFold(n_splits=10, random_state=1, shuffle=True)\n",
    "\n",
    "score = cross_val_score(modelBigram, X_train_bigram, y_train_bigram, scoring='accuracy', cv=cv, n_jobs=-1)\n",
    "\n",
    "print('Accuracy: %.3f (%.3f)' % (np.mean(score), np.std(score)))"
   ]
  }
 ],
 "metadata": {
  "kernelspec": {
   "display_name": "Python 3 (ipykernel)",
   "language": "python",
   "name": "python3"
  },
  "language_info": {
   "codemirror_mode": {
    "name": "ipython",
    "version": 3
   },
   "file_extension": ".py",
   "mimetype": "text/x-python",
   "name": "python",
   "nbconvert_exporter": "python",
   "pygments_lexer": "ipython3",
   "version": "3.9.6"
  },
  "orig_nbformat": 4
 },
 "nbformat": 4,
 "nbformat_minor": 2
}
