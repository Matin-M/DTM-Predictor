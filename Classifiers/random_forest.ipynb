{
 "cells": [
  {
   "cell_type": "code",
   "execution_count": 11,
   "metadata": {},
   "outputs": [],
   "source": [
    "import numpy as np\n",
    "import pandas as pd\n",
    "\n",
    "# Import the 60min datasets\n",
    "apple_60min_term_training = pd.read_csv('https://raw.githubusercontent.com/Matin-M/StockDirectionPrediction/main/Data/TrainingData/apple_60min_term_df_reduced.csv')\n",
    "apple_60min_bigram_training = pd.read_csv('https://raw.githubusercontent.com/Matin-M/StockDirectionPrediction/main/Data/TrainingData/apple_60min_bigram_df_reduced.csv')"
   ]
  },
  {
   "cell_type": "code",
   "execution_count": 12,
   "metadata": {},
   "outputs": [],
   "source": [
    "# Term training data and labels\n",
    "X_train_term = apple_60min_term_training.iloc[:, :-1].values\n",
    "y_train_term = apple_60min_term_training.iloc[:, -1].values\n",
    "\n",
    "# Bigram training data and labels\n",
    "X_train_bigram = apple_60min_bigram_training.iloc[:, :-1].values\n",
    "y_train_bigram = apple_60min_bigram_training.iloc[:, -1].values"
   ]
  },
  {
   "cell_type": "code",
   "execution_count": 14,
   "metadata": {},
   "outputs": [],
   "source": [
    "# Fit your model to the training data\n",
    "from sklearn.model_selection import GridSearchCV\n",
    "from sklearn.ensemble import RandomForestClassifier\n",
    "clf = RandomForestClassifier(random_state=0, n_jobs=-1)\n",
    "\n",
    "max_depth = [int(x) for x in np.linespace(10, 110, num = 11)]\n",
    "max_depth.append(None)\n",
    "# Find the best parameters\n",
    "param_grid = {'n_estimators': [int(x) for x in np.linespace(start = 200, stop = 2000, num = 10)],\n",
    "              'max_features': ['auto', 'sqrt'],\n",
    "              'max_depth': max_depth,\n",
    "              'min_samples_split': [2, 5, 10],\n",
    "              'min_samples_leaf': [1, 2, 4],\n",
    "              'bootstrap': [True, False]\n",
    "              }\n",
    "\n",
    "clf = GridSearchCV(clf, param_grid)\n",
    "\n",
    "clf.fit(X_train_term, y_train_term)"
   ]
  },
  {
   "attachments": {},
   "cell_type": "markdown",
   "metadata": {},
   "source": [
    "n_estimators = number of tress in the forest \n",
    "\n",
    "max_features = max number of features considering for splitting a node \n",
    "\n",
    "max_depth = max number of levels in each decision tree \n",
    "\n",
    "min_samples_split = min number of data points placed in a node is split \n",
    "\n",
    "min_samples_leaf = min number of data points allowed in a leaf node \n",
    "\n",
    "bootstrap = method for sampling data points (with or without replacement)"
   ]
  },
  {
   "cell_type": "code",
   "execution_count": 15,
   "metadata": {},
   "outputs": [],
   "source": [
    "# Run K-Fold CV using your trained model on the entireity of the training data"
   ]
  }
 ],
 "metadata": {
  "kernelspec": {
   "display_name": "Python 3 (ipykernel)",
   "language": "python",
   "name": "python3"
  },
  "language_info": {
   "codemirror_mode": {
    "name": "ipython",
    "version": 3
   },
   "file_extension": ".py",
   "mimetype": "text/x-python",
   "name": "python",
   "nbconvert_exporter": "python",
   "pygments_lexer": "ipython3",
   "version": "3.10.10"
  },
  "orig_nbformat": 4
 },
 "nbformat": 4,
 "nbformat_minor": 2
}
