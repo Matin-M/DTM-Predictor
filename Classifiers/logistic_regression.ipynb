{
 "cells": [
  {
   "cell_type": "code",
   "execution_count": 66,
   "metadata": {},
   "outputs": [],
   "source": [
    "import numpy as np\n",
    "import pandas as pd\n",
    "\n",
    "# Import the 60min datasets\n",
    "apple_60min_term_training = pd.read_csv('https://raw.githubusercontent.com/Matin-M/StockDirectionPrediction/main/Data/TrainingData/apple_60min_term_df_reduced.csv')\n",
    "apple_60min_bigram_training = pd.read_csv('https://raw.githubusercontent.com/Matin-M/StockDirectionPrediction/main/Data/TrainingData/apple_60min_bigram_df_reduced.csv')"
   ]
  },
  {
   "cell_type": "code",
   "execution_count": 67,
   "metadata": {},
   "outputs": [
    {
     "name": "stdout",
     "output_type": "stream",
     "text": [
      "(7020, 60)\n",
      "(7020, 20)\n"
     ]
    }
   ],
   "source": [
    "# Term training data and labels\n",
    "X_train_term = apple_60min_term_training.iloc[:, :-1].values\n",
    "y_train_term = apple_60min_term_training.iloc[:, -1].values\n",
    "\n",
    "# Bigram training data and labels\n",
    "X_train_bigram = apple_60min_bigram_training.iloc[:, :-1].values\n",
    "y_train_bigram = apple_60min_bigram_training.iloc[:, -1].values\n",
    "\n",
    "print(X_train_bigram.shape)\n",
    "print(X_train_term.shape)"
   ]
  },
  {
   "cell_type": "code",
   "execution_count": 68,
   "metadata": {},
   "outputs": [],
   "source": [
    "from sklearn.linear_model import LogisticRegression\n",
    "from sklearn.model_selection import KFold\n",
    "from sklearn.model_selection import cross_val_score"
   ]
  },
  {
   "cell_type": "code",
   "execution_count": 69,
   "metadata": {},
   "outputs": [
    {
     "name": "stdout",
     "output_type": "stream",
     "text": [
      "[CV] START .....................................................................\n",
      "[CV] END ................................ score: (test=0.701) total time=   0.0s\n",
      "[CV] START .....................................................................\n",
      "[CV] END ................................ score: (test=0.718) total time=   0.0s\n",
      "[CV] START .....................................................................\n",
      "[CV] END ................................ score: (test=0.725) total time=   0.0s\n",
      "[CV] START .....................................................................\n",
      "[CV] END ................................ score: (test=0.694) total time=   0.0s\n",
      "[CV] START .....................................................................\n",
      "[CV] END ................................ score: (test=0.711) total time=   0.0s\n",
      "[CV] START .....................................................................\n",
      "[CV] END ................................ score: (test=0.735) total time=   0.0s\n",
      "[CV] START .....................................................................\n"
     ]
    },
    {
     "name": "stderr",
     "output_type": "stream",
     "text": [
      "[Parallel(n_jobs=1)]: Using backend SequentialBackend with 1 concurrent workers.\n",
      "[Parallel(n_jobs=1)]: Done   1 out of   1 | elapsed:    0.0s remaining:    0.0s\n",
      "[Parallel(n_jobs=1)]: Done   2 out of   2 | elapsed:    0.1s remaining:    0.0s\n",
      "[Parallel(n_jobs=1)]: Done   3 out of   3 | elapsed:    0.1s remaining:    0.0s\n",
      "[Parallel(n_jobs=1)]: Done   4 out of   4 | elapsed:    0.1s remaining:    0.0s\n",
      "[Parallel(n_jobs=1)]: Done   5 out of   5 | elapsed:    0.2s remaining:    0.0s\n",
      "[Parallel(n_jobs=1)]: Done   6 out of   6 | elapsed:    0.2s remaining:    0.0s\n"
     ]
    },
    {
     "name": "stdout",
     "output_type": "stream",
     "text": [
      "[CV] END ................................ score: (test=0.722) total time=   0.0s\n",
      "[CV] START .....................................................................\n",
      "[CV] END ................................ score: (test=0.762) total time=   0.0s\n",
      "[CV] START .....................................................................\n",
      "[CV] END ................................ score: (test=0.698) total time=   0.0s\n",
      "[CV] START .....................................................................\n",
      "[CV] END ................................ score: (test=0.718) total time=   0.0s\n",
      "Accuracy: 0.718 (0.019)\n"
     ]
    },
    {
     "name": "stderr",
     "output_type": "stream",
     "text": [
      "[Parallel(n_jobs=1)]: Done   7 out of   7 | elapsed:    0.2s remaining:    0.0s\n",
      "[Parallel(n_jobs=1)]: Done   8 out of   8 | elapsed:    0.3s remaining:    0.0s\n",
      "[Parallel(n_jobs=1)]: Done   9 out of   9 | elapsed:    0.3s remaining:    0.0s\n",
      "[Parallel(n_jobs=1)]: Done  10 out of  10 | elapsed:    0.3s finished\n"
     ]
    }
   ],
   "source": [
    "# model for bigram\n",
    "# Fit your model to the training data\n",
    "cv = KFold(n_splits=10, random_state=1, shuffle=True)\n",
    "# create model\n",
    "modelBigram = LogisticRegression()\n",
    "# evaluate model\n",
    "scores = cross_val_score(modelBigram, X_train_bigram, y_train_bigram, scoring='accuracy', cv=cv, verbose = 10)\n",
    "# report performance\n",
    "print('Accuracy: %.3f (%.3f)' % (np.mean(scores), np.std(scores)))"
   ]
  },
  {
   "cell_type": "code",
   "execution_count": 70,
   "metadata": {},
   "outputs": [
    {
     "name": "stdout",
     "output_type": "stream",
     "text": [
      "[CV] START .....................................................................\n",
      "[CV] END ................................ score: (test=0.527) total time=   0.0s\n",
      "[CV] START .....................................................................\n",
      "[CV] END ................................ score: (test=0.531) total time=   0.0s\n",
      "[CV] START .....................................................................\n",
      "[CV] END ................................ score: (test=0.553) total time=   0.0s\n",
      "[CV] START .....................................................................\n",
      "[CV] END ................................ score: (test=0.578) total time=   0.0s\n",
      "[CV] START .....................................................................\n",
      "[CV] END ................................ score: (test=0.538) total time=   0.0s\n",
      "[CV] START .....................................................................\n"
     ]
    },
    {
     "name": "stderr",
     "output_type": "stream",
     "text": [
      "[Parallel(n_jobs=1)]: Using backend SequentialBackend with 1 concurrent workers.\n",
      "[Parallel(n_jobs=1)]: Done   1 out of   1 | elapsed:    0.0s remaining:    0.0s\n",
      "[Parallel(n_jobs=1)]: Done   2 out of   2 | elapsed:    0.0s remaining:    0.0s\n",
      "[Parallel(n_jobs=1)]: Done   3 out of   3 | elapsed:    0.1s remaining:    0.0s\n",
      "[Parallel(n_jobs=1)]: Done   4 out of   4 | elapsed:    0.1s remaining:    0.0s\n",
      "[Parallel(n_jobs=1)]: Done   5 out of   5 | elapsed:    0.1s remaining:    0.0s\n",
      "[Parallel(n_jobs=1)]: Done   6 out of   6 | elapsed:    0.1s remaining:    0.0s\n",
      "[Parallel(n_jobs=1)]: Done   7 out of   7 | elapsed:    0.2s remaining:    0.0s\n",
      "[Parallel(n_jobs=1)]: Done   8 out of   8 | elapsed:    0.2s remaining:    0.0s\n",
      "[Parallel(n_jobs=1)]: Done   9 out of   9 | elapsed:    0.2s remaining:    0.0s\n"
     ]
    },
    {
     "name": "stdout",
     "output_type": "stream",
     "text": [
      "[CV] END ................................ score: (test=0.604) total time=   0.0s\n",
      "[CV] START .....................................................................\n",
      "[CV] END ................................ score: (test=0.570) total time=   0.0s\n",
      "[CV] START .....................................................................\n",
      "[CV] END ................................ score: (test=0.577) total time=   0.0s\n",
      "[CV] START .....................................................................\n",
      "[CV] END ................................ score: (test=0.548) total time=   0.0s\n",
      "[CV] START .....................................................................\n",
      "[CV] END ................................ score: (test=0.570) total time=   0.0s\n",
      "Accuracy: 0.560 (0.023)\n"
     ]
    },
    {
     "name": "stderr",
     "output_type": "stream",
     "text": [
      "[Parallel(n_jobs=1)]: Done  10 out of  10 | elapsed:    0.2s finished\n"
     ]
    }
   ],
   "source": [
    "# model for term\n",
    "# Fit your model to the training data\n",
    "# LRbigram.fit(X_train_bigram, y_train_bigram)\n",
    "cv = KFold(n_splits=10, random_state=1, shuffle=True)\n",
    "# create model\n",
    "modelTerm = LogisticRegression()\n",
    "# evaluate model\n",
    "scores = cross_val_score(modelTerm, X_train_term, y_train_term, scoring='accuracy', cv=cv, verbose = 10)\n",
    "# report performance\n",
    "print('Accuracy: %.3f (%.3f)' % (np.mean(scores), np.std(scores)))"
   ]
  },
  {
   "cell_type": "code",
   "execution_count": 71,
   "metadata": {},
   "outputs": [
    {
     "data": {
      "text/html": [
       "<div>\n",
       "<style scoped>\n",
       "    .dataframe tbody tr th:only-of-type {\n",
       "        vertical-align: middle;\n",
       "    }\n",
       "\n",
       "    .dataframe tbody tr th {\n",
       "        vertical-align: top;\n",
       "    }\n",
       "\n",
       "    .dataframe thead th {\n",
       "        text-align: right;\n",
       "    }\n",
       "</style>\n",
       "<table border=\"1\" class=\"dataframe\">\n",
       "  <thead>\n",
       "    <tr style=\"text-align: right;\">\n",
       "      <th></th>\n",
       "      <th>0</th>\n",
       "      <th>1</th>\n",
       "      <th>2</th>\n",
       "      <th>3</th>\n",
       "      <th>4</th>\n",
       "      <th>5</th>\n",
       "      <th>6</th>\n",
       "      <th>7</th>\n",
       "      <th>8</th>\n",
       "      <th>9</th>\n",
       "      <th>label</th>\n",
       "    </tr>\n",
       "  </thead>\n",
       "  <tbody>\n",
       "    <tr>\n",
       "      <th>0</th>\n",
       "      <td>0.526680</td>\n",
       "      <td>0.339843</td>\n",
       "      <td>0.037859</td>\n",
       "      <td>-0.614697</td>\n",
       "      <td>0.642645</td>\n",
       "      <td>1.715653</td>\n",
       "      <td>2.798348</td>\n",
       "      <td>-0.166938</td>\n",
       "      <td>-1.565650</td>\n",
       "      <td>-1.001887</td>\n",
       "      <td>1</td>\n",
       "    </tr>\n",
       "    <tr>\n",
       "      <th>1</th>\n",
       "      <td>0.118962</td>\n",
       "      <td>-0.077396</td>\n",
       "      <td>0.001024</td>\n",
       "      <td>-0.041346</td>\n",
       "      <td>0.001943</td>\n",
       "      <td>0.536378</td>\n",
       "      <td>-0.007126</td>\n",
       "      <td>0.095784</td>\n",
       "      <td>-0.009555</td>\n",
       "      <td>-0.042229</td>\n",
       "      <td>0</td>\n",
       "    </tr>\n",
       "    <tr>\n",
       "      <th>2</th>\n",
       "      <td>0.050994</td>\n",
       "      <td>0.029138</td>\n",
       "      <td>0.006711</td>\n",
       "      <td>0.016266</td>\n",
       "      <td>0.028483</td>\n",
       "      <td>0.286261</td>\n",
       "      <td>0.211115</td>\n",
       "      <td>-0.070211</td>\n",
       "      <td>-0.096258</td>\n",
       "      <td>-0.014756</td>\n",
       "      <td>1</td>\n",
       "    </tr>\n",
       "    <tr>\n",
       "      <th>3</th>\n",
       "      <td>0.220387</td>\n",
       "      <td>0.011531</td>\n",
       "      <td>0.006714</td>\n",
       "      <td>0.030033</td>\n",
       "      <td>-0.000058</td>\n",
       "      <td>0.548873</td>\n",
       "      <td>0.340033</td>\n",
       "      <td>-0.285699</td>\n",
       "      <td>-0.123589</td>\n",
       "      <td>0.208682</td>\n",
       "      <td>1</td>\n",
       "    </tr>\n",
       "    <tr>\n",
       "      <th>4</th>\n",
       "      <td>15.331030</td>\n",
       "      <td>-6.081068</td>\n",
       "      <td>0.245198</td>\n",
       "      <td>-0.773288</td>\n",
       "      <td>1.955454</td>\n",
       "      <td>-0.068404</td>\n",
       "      <td>0.673475</td>\n",
       "      <td>-0.815783</td>\n",
       "      <td>0.141135</td>\n",
       "      <td>4.999859</td>\n",
       "      <td>1</td>\n",
       "    </tr>\n",
       "  </tbody>\n",
       "</table>\n",
       "</div>"
      ],
      "text/plain": [
       "           0         1         2         3         4         5         6  \\\n",
       "0   0.526680  0.339843  0.037859 -0.614697  0.642645  1.715653  2.798348   \n",
       "1   0.118962 -0.077396  0.001024 -0.041346  0.001943  0.536378 -0.007126   \n",
       "2   0.050994  0.029138  0.006711  0.016266  0.028483  0.286261  0.211115   \n",
       "3   0.220387  0.011531  0.006714  0.030033 -0.000058  0.548873  0.340033   \n",
       "4  15.331030 -6.081068  0.245198 -0.773288  1.955454 -0.068404  0.673475   \n",
       "\n",
       "          7         8         9  label  \n",
       "0 -0.166938 -1.565650 -1.001887      1  \n",
       "1  0.095784 -0.009555 -0.042229      0  \n",
       "2 -0.070211 -0.096258 -0.014756      1  \n",
       "3 -0.285699 -0.123589  0.208682      1  \n",
       "4 -0.815783  0.141135  4.999859      1  "
      ]
     },
     "execution_count": 71,
     "metadata": {},
     "output_type": "execute_result"
    }
   ],
   "source": [
    "# truncate term_df into 60 and run model again\n",
    "from sklearn.decomposition import TruncatedSVD\n",
    "\n",
    "term_df = pd.read_csv('https://raw.githubusercontent.com/Matin-M/StockDirectionPrediction/main/Data/DTM/apple_bigram_dtm.csv')\n",
    "\n",
    "svd_term = TruncatedSVD(n_components=10, random_state=42)\n",
    "reduced_term_df = svd_term.fit_transform(term_df)\n",
    "\n",
    "reduced_term_df = pd.DataFrame(reduced_term_df)\n",
    "reduced_term_df['label'] = term_df['direction']\n",
    "\n",
    "reduced_term_df.head()"
   ]
  },
  {
   "cell_type": "code",
   "execution_count": 72,
   "metadata": {},
   "outputs": [
    {
     "name": "stderr",
     "output_type": "stream",
     "text": [
      "[Parallel(n_jobs=1)]: Using backend SequentialBackend with 1 concurrent workers.\n",
      "[Parallel(n_jobs=1)]: Done   1 out of   1 | elapsed:    0.0s remaining:    0.0s\n",
      "[Parallel(n_jobs=1)]: Done   2 out of   2 | elapsed:    0.1s remaining:    0.0s\n",
      "[Parallel(n_jobs=1)]: Done   3 out of   3 | elapsed:    0.1s remaining:    0.0s\n",
      "[Parallel(n_jobs=1)]: Done   4 out of   4 | elapsed:    0.1s remaining:    0.0s\n",
      "[Parallel(n_jobs=1)]: Done   5 out of   5 | elapsed:    0.1s remaining:    0.0s\n",
      "[Parallel(n_jobs=1)]: Done   6 out of   6 | elapsed:    0.1s remaining:    0.0s\n",
      "[Parallel(n_jobs=1)]: Done   7 out of   7 | elapsed:    0.2s remaining:    0.0s\n",
      "[Parallel(n_jobs=1)]: Done   8 out of   8 | elapsed:    0.2s remaining:    0.0s\n",
      "[Parallel(n_jobs=1)]: Done   9 out of   9 | elapsed:    0.2s remaining:    0.0s\n"
     ]
    },
    {
     "name": "stdout",
     "output_type": "stream",
     "text": [
      "[CV] START .....................................................................\n",
      "[CV] END ................................ score: (test=0.527) total time=   0.0s\n",
      "[CV] START .....................................................................\n",
      "[CV] END ................................ score: (test=0.531) total time=   0.0s\n",
      "[CV] START .....................................................................\n",
      "[CV] END ................................ score: (test=0.553) total time=   0.0s\n",
      "[CV] START .....................................................................\n",
      "[CV] END ................................ score: (test=0.578) total time=   0.0s\n",
      "[CV] START .....................................................................\n",
      "[CV] END ................................ score: (test=0.538) total time=   0.0s\n",
      "[CV] START .....................................................................\n",
      "[CV] END ................................ score: (test=0.604) total time=   0.0s\n",
      "[CV] START .....................................................................\n",
      "[CV] END ................................ score: (test=0.570) total time=   0.0s\n",
      "[CV] START .....................................................................\n",
      "[CV] END ................................ score: (test=0.577) total time=   0.0s\n",
      "[CV] START .....................................................................\n",
      "[CV] END ................................ score: (test=0.548) total time=   0.0s\n",
      "[CV] START .....................................................................\n",
      "[CV] END ................................ score: (test=0.570) total time=   0.0s\n",
      "Accuracy: 0.560 (0.023)\n"
     ]
    },
    {
     "name": "stderr",
     "output_type": "stream",
     "text": [
      "[Parallel(n_jobs=1)]: Done  10 out of  10 | elapsed:    0.2s finished\n"
     ]
    }
   ],
   "source": [
    "X_train_term60 = reduced_term_df.iloc[:, :-1].values\n",
    "y_train_term60 = reduced_term_df.iloc[:, -1].values\n",
    "\n",
    "cv = KFold(n_splits=10, random_state=1, shuffle=True)\n",
    "# create model\n",
    "modelTerm60 = LogisticRegression()\n",
    "# evaluate model\n",
    "scores = cross_val_score(modelTerm60, X_train_term, y_train_term, scoring='accuracy', cv=cv, verbose = 10)\n",
    "# report performance\n",
    "print('Accuracy: %.3f (%.3f)' % (scores.mean(), scores.std()))"
   ]
  },
  {
   "cell_type": "code",
   "execution_count": null,
   "metadata": {},
   "outputs": [],
   "source": []
  }
 ],
 "metadata": {
  "kernelspec": {
   "display_name": "Python 3 (ipykernel)",
   "language": "python",
   "name": "python3"
  },
  "language_info": {
   "codemirror_mode": {
    "name": "ipython",
    "version": 3
   },
   "file_extension": ".py",
   "mimetype": "text/x-python",
   "name": "python",
   "nbconvert_exporter": "python",
   "pygments_lexer": "ipython3",
   "version": "3.9.7"
  }
 },
 "nbformat": 4,
 "nbformat_minor": 2
}
